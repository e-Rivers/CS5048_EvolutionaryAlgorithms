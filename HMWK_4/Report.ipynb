{
 "cells": [
  {
   "cell_type": "markdown",
   "metadata": {},
   "source": [
    "# Homework 4. Multiobjective Optimization\n",
    "\n",
    "### Evolutionary Computation\n",
    "\n",
    "Dr. Jesús Guillermo Falcón Cardona\n",
    "\n",
    "* Denisse Chacón Ramírez [A01378965]\n",
    "* Emilio Rios Ochoa [A01378965]"
   ]
  },
  {
   "cell_type": "markdown",
   "metadata": {},
   "source": [
    "## Introduction\n",
    "\n",
    "Optimization problems are widely present in real life, spanning across various industries and knowledge areas. These are alass of optimization problems that involve the simultaneous optimization of two or more objectives [3]. A key characteristic of these problems is that their objective are in conflict, implying that there is a trade-off between the improvement in some and the worsening of others. This is where Multi-Objective optimization (MO) and Multi-Objective Evolutionary Algorithms (MOEA) come into play. One of the most popular MOEAs is the Non-dominated Sorting Genetic Algorithm II (NSGA-II) which although may not be the best, it is still quite relevant and it essentially works by determining the number of dominating solutions for each individual in the population (Pareto dominance) and breaking ties with the Crowding Distance algorithm [4]. Additionally, regarding the problems, there exists a set of problems named after their authors Deb, Thiele, Laumanns and Zitzler that serve as reference to test MOEAs due to their diverse shapes, continuity and convexity [5].\n",
    "\n",
    "In this study, we utilize the traditional NSGA-II algorithm, as well as a modified version of it using the crossover and mutation operators of Differential Evolution (DE), hence, naming this hybrid version NSDE-II. We test them against four of the well-known DTLZ problems and their inverted versions, to assess if using a this hybrid version has an advantage over the traditional implementation, for which we use Quality Indicators (QI) such as the R2 and Riesz s-Energy measures and Wilcoxon statistical tests to compare these results."
   ]
  },
  {
   "cell_type": "markdown",
   "metadata": {},
   "source": [
    "## Implementation"
   ]
  },
  {
   "cell_type": "code",
   "execution_count": null,
   "metadata": {},
   "outputs": [],
   "source": [
    "import numpy as np\n",
    "import matplotlib.pyplot as plt\n",
    "from pymoo.problems import get_problem\n",
    "from pymoo.util.ref_dirs import get_reference_directions\n",
    "from scipy.stats import ranksums\n",
    "from scipy.spatial.distance import pdist, squareform\n",
    "from pymoo.algorithms.moo.nsga2 import NSGA2\n",
    "from pymoo.optimize import minimize\n",
    "from pymoo.operators.crossover.sbx import SimulatedBinaryCrossover\n",
    "from pymoo.operators.mutation.pm import PolynomialMutation\n",
    "from pymoo.core.population import Population\n",
    "from pymoo.problems.many import DTLZ1, DTLZ2, DTLZ5, DTLZ7\n",
    "from pymoo.core.problem import Problem\n",
    "from pymoo.problems.functional import FunctionalProblem\n",
    "from itertools import combinations_with_replacement"
   ]
  },
  {
   "cell_type": "markdown",
   "metadata": {},
   "source": [
    "<hr />\n",
    "\n",
    "### Problem Definition\n",
    "\n",
    "To test our implementations, we use the DTLZ problems, specifically, DTLZ1, DTLZ2, DTLZ5 and DTLZ7, as well as their inverted versions. <br />\n",
    "In order to be able to graph, we set the number of objectives ($m$) to 3. Whilst the number of decision variables ($n$) is defined by using the formula $n = m + k - 1$\n",
    "\n",
    "* For DTLZ1,            $k = 5$\n",
    "* For DTLZ2 - DTLZ6,    $k = 10$\n",
    "* For DTLZ7,            $k = 20$"
   ]
  },
  {
   "cell_type": "code",
   "execution_count": null,
   "metadata": {},
   "outputs": [],
   "source": [
    "m_Objectives = 3\n",
    "n_Variables = [m_Objectives + k - 1 for k in [5, 10, 10, 20]]\n",
    "\n",
    "for i, dtlz in enumerate([1, 2, 5, 7]):\n",
    "    print(f\"# of Variables for DTLZ{dtlz}: {n_Variables[i]}\")\n",
    "\n",
    "PROBLEMS = {\n",
    "    \"DTLZ\" : { \n",
    "        f\"DTLZ{i}\" : get_problem(f\"DTLZ{i}\", n_var=var, n_obj=m_Objectives) for i, var in zip([1, 2, 5, 7], n_Variables) \n",
    "    }\n",
    "}"
   ]
  },
  {
   "cell_type": "markdown",
   "metadata": {},
   "source": [
    "Next, we define the inverted versions of the problems. <br />\n",
    "To achieve this, we have to invert every single objective of each problem as follows:\n",
    "\n",
    "$f_i(x) \\leftarrow 0.5(1 + g(x)) - f_i(x)$\n",
    "\n",
    "However, we can leverage Pymoo's existing implementations of the DTLZ problems and just apply the aforementioned transformation instead of computing everything from scratch."
   ]
  },
  {
   "cell_type": "code",
   "execution_count": null,
   "metadata": {},
   "outputs": [],
   "source": [
    "class IDTLZ1(DTLZ1):\n",
    "    def __init__(self, n_var, n_obj):\n",
    "        super().__init__(n_var, n_obj)\n",
    "\n",
    "    def _evaluate(self, x, out, *args, **kwargs):\n",
    "        X_, X_M = x[:, :self.n_obj - 1], x[:, self.n_obj - 1:]\n",
    "        g = self.g1(X_M)\n",
    "\n",
    "        super()._evaluate(x, out, *args, **kwargs)\n",
    "        out[\"F\"] = 0.5 * (1 + g[:, None]) - out[\"F\"]"
   ]
  },
  {
   "cell_type": "code",
   "execution_count": null,
   "metadata": {},
   "outputs": [],
   "source": [
    "class IDTLZ2(DTLZ2):\n",
    "    def __init__(self, n_var, n_obj):\n",
    "        super().__init__(n_var, n_obj)\n",
    "\n",
    "    def _evaluate(self, x, out, *args, **kwargs):\n",
    "        X_, X_M = x[:, :self.n_obj - 1], x[:, self.n_obj - 1:]\n",
    "        g = self.g1(X_M)\n",
    "\n",
    "        super()._evaluate(x, out, *args, **kwargs)\n",
    "        out[\"F\"] = 0.5 * (1 + g[:, None]) - out[\"F\"]"
   ]
  },
  {
   "cell_type": "code",
   "execution_count": null,
   "metadata": {},
   "outputs": [],
   "source": [
    "class IDTLZ5(DTLZ5):\n",
    "    def __init__(self, n_var, n_obj):\n",
    "        super().__init__(n_var, n_obj)\n",
    "\n",
    "    def _evaluate(self, x, out, *args, **kwargs):\n",
    "        X_, X_M = x[:, :self.n_obj - 1], x[:, self.n_obj - 1:]\n",
    "        g = self.g1(X_M)\n",
    "\n",
    "        super()._evaluate(x, out, *args, **kwargs)\n",
    "        out[\"F\"] = 0.5 * (1 + g[:, None]) - out[\"F\"]"
   ]
  },
  {
   "cell_type": "code",
   "execution_count": null,
   "metadata": {},
   "outputs": [],
   "source": [
    "class IDTLZ7(DTLZ7):\n",
    "    def __init__(self, n_var, n_obj):\n",
    "        super().__init__(n_var, n_obj)\n",
    "\n",
    "    def _evaluate(self, x, out, *args, **kwargs):\n",
    "        X_, X_M = x[:, :self.n_obj - 1], x[:, self.n_obj - 1:]\n",
    "        g = self.g1(X_M)\n",
    "\n",
    "        super()._evaluate(x, out, *args, **kwargs)\n",
    "        out[\"F\"] = 0.5 * (1 + g[:, None]) - out[\"F\"]"
   ]
  },
  {
   "cell_type": "code",
   "execution_count": null,
   "metadata": {},
   "outputs": [],
   "source": [
    "PROBLEMS[\"IDTLZ\"] = {\n",
    "    \"IDTLZ1\" : IDTLZ1(n_var=n_Variables[0], n_obj=m_Objectives),  \n",
    "    \"IDTLZ2\" : IDTLZ2(n_var=n_Variables[1], n_obj=m_Objectives),  \n",
    "    \"IDTLZ5\" : IDTLZ5(n_var=n_Variables[2], n_obj=m_Objectives),  \n",
    "    \"IDTLZ7\" : IDTLZ7(n_var=n_Variables[3], n_obj=m_Objectives)  \n",
    "}"
   ]
  },
  {
   "cell_type": "markdown",
   "metadata": {},
   "source": [
    "We display the actual Pareto fronts of each respective function, as a way to see the goal of what we're trying to get. Ishibuchi, _et. al_ [2] mentions that the optimal solutions of non-inverted DTLZ problems (using DTLZ2 as reference) are obtained when the distance variables are 0.5, whereas for the inverted verions, are obtained when they are either 0 or 1. Therefore, our intuition to obtain the real pareto front of the inverted versions was to perform $0.5 - P$, where $P$ is the set of points in the non-inverted DTLZ's Pareto front."
   ]
  },
  {
   "cell_type": "code",
   "execution_count": null,
   "metadata": {},
   "outputs": [],
   "source": [
    "fig, ax = plt.subplots(2, 4, figsize=(20, 10), subplot_kw={\"projection\" : \"3d\"})\n",
    "\n",
    "scatterPlots = []\n",
    "for i, category in enumerate(PROBLEMS):\n",
    "    for j, problem in enumerate(PROBLEMS[category]):\n",
    "        paretoFront = PROBLEMS[category][problem].pareto_front() if category == \"DTLZ\" else 0.5 - PROBLEMS[\"DTLZ\"][problem[1:]].pareto_front()\n",
    "\n",
    "        ax[i, j].scatter(paretoFront[:, 0], paretoFront[:, 1], paretoFront[:, 2])\n",
    "        ax[i, j].set_title(f\"Problem {problem}\")\n",
    "        ax[i, j].set_xlabel(\"f1\")\n",
    "        ax[i, j].set_ylabel(\"f2\")\n",
    "        ax[i, j].set_zlabel(\"f3\")\n",
    "        ax[i, j].view_init(elev=30, azim=20)\n",
    "\n",
    "fig.suptitle(\"DTLZ Real Pareto Front Visualizations\")\n",
    "plt.tight_layout()\n",
    "plt.show()"
   ]
  },
  {
   "cell_type": "markdown",
   "metadata": {},
   "source": [
    "<hr />\n",
    "\n",
    "### Algorithms' Implementation"
   ]
  },
  {
   "cell_type": "markdown",
   "metadata": {},
   "source": [
    "#### NSGA-II\n",
    "\n",
    "Traditional approach using Pymoo's existent implementation of the Nondominated Sorting Genetic Algorithm II (NSGA-II) using Simulated Binary Crossover (SBX) as crossover operator and Polynomial Mutation (PM) as mutation operator."
   ]
  },
  {
   "cell_type": "code",
   "execution_count": null,
   "metadata": {},
   "outputs": [],
   "source": [
    "NSGA = NSGA2(\n",
    "    pop_size                =   100,\n",
    "    crossover               =   SimulatedBinaryCrossover(),\n",
    "    mutation                =   PolynomialMutation(),\n",
    "    eliminate_duplicates    =   True\n",
    ")"
   ]
  },
  {
   "cell_type": "markdown",
   "metadata": {},
   "source": [
    "#### NSDE-II\n",
    "\n",
    "Our custom variation of the NSGA-II using Differential Evolution (DE) operators to replace the SBX crossover and PM mutation operators.\n",
    "\n",
    "* **Mutation:** Only 1 weighted difference\n",
    "* **Crossover:** Binomial crossover"
   ]
  },
  {
   "cell_type": "code",
   "execution_count": null,
   "metadata": {},
   "outputs": [],
   "source": [
    "class NSDE2(NSGA2):\n",
    "    def __init__(self, pop_size, eliminate_duplicates, F=0.1, P_r=0.9):\n",
    "        super().__init__(pop_size=pop_size, eliminate_duplicates=eliminate_duplicates)\n",
    "        self.F = F  \n",
    "        self.P_r = P_r\n",
    "    \n",
    "    def _infill(self):\n",
    "        # Decode the population into arrays\n",
    "        population = self.pop.get(\"X\")\n",
    "        popSize = len(self.pop)\n",
    "        indSize = population.shape[1]\n",
    "    \n",
    "        # Generate offspring population\n",
    "        newPopulation = np.empty((popSize, indSize))\n",
    "        for i in range(popSize):\n",
    "            # Mutation Operation\n",
    "            indices = [ind for ind in range(len(self.pop)) if ind != i]\n",
    "            a_idx, b_idx, c_idx = np.random.choice(indices, 3, replace=False)\n",
    "            a, b, c = population[a_idx], population[b_idx], population[c_idx]\n",
    "            mutant = np.clip(a + self.F * (b - c), self.problem.xl, self.problem.xu)\n",
    "\n",
    "            # Binomial Crossover\n",
    "            trial = np.copy(population[i])\n",
    "            for j in range(indSize):\n",
    "                if np.random.rand() < self.P_r:\n",
    "                    trial[j] = mutant[j]\n",
    "            trial = np.clip(trial, self.problem.xl, self.problem.xu)\n",
    "            newPopulation[i] = trial\n",
    "\n",
    "        # Evaluate the offspring\n",
    "        offspring = Population.new(\"X\", newPopulation)\n",
    "        self.evaluator.eval(self.problem, offspring)\n",
    "\n",
    "        # Combine parents and offspring\n",
    "        combined = Population.merge(self.pop, offspring)\n",
    "\n",
    "        # Use the NSGA-II's regular selection of the best μ elements\n",
    "        self.pop = self.survival.do(self.problem, combined, len(self.pop))\n",
    "\n",
    "        return offspring"
   ]
  },
  {
   "cell_type": "code",
   "execution_count": null,
   "metadata": {},
   "outputs": [],
   "source": [
    "NSDE = NSDE2(\n",
    "    pop_size                =   100,\n",
    "    eliminate_duplicates    =   True\n",
    ")"
   ]
  },
  {
   "cell_type": "markdown",
   "metadata": {},
   "source": [
    "<hr />\n",
    "\n",
    "### Execution"
   ]
  },
  {
   "cell_type": "markdown",
   "metadata": {},
   "source": [
    "Perform 30 runs per problem and solve them with both NSGA-II and NSDE-II storing their results for future analysis."
   ]
  },
  {
   "cell_type": "code",
   "execution_count": null,
   "metadata": {},
   "outputs": [],
   "source": [
    "NSGAresults = { category: { problem : [] for problem in PROBLEMS[category] }  for category in PROBLEMS }\n",
    "NSDEresults = { category: { problem : [] for problem in PROBLEMS[category] }  for category in PROBLEMS }\n",
    "\n",
    "for i, category in enumerate(PROBLEMS):\n",
    "    for j, problem in enumerate(PROBLEMS[category]):\n",
    "        print(f\"Solving problem {problem}...\\n\")\n",
    "        for _ in range(3):\n",
    "            NSGAresults[category][problem].append(\n",
    "                minimize(\n",
    "                    PROBLEMS[category][problem],\n",
    "                    NSGA,\n",
    "                    (\"n_gen\", 500),\n",
    "                    verbose = False\n",
    "                )\n",
    "            )\n",
    "            NSDEresults[category][problem].append(\n",
    "                minimize(\n",
    "                    PROBLEMS[category][problem],\n",
    "                    NSDE,\n",
    "                    (\"n_gen\", 500),\n",
    "                    verbose = False\n",
    "                )\n",
    "            )"
   ]
  },
  {
   "cell_type": "markdown",
   "metadata": {},
   "source": [
    "<hr />\n",
    "\n",
    "### Perfromance Assessment"
   ]
  },
  {
   "cell_type": "markdown",
   "metadata": {},
   "source": [
    "To measure the diversity obtained with our solutions, we utilize the Riesz s-Energy indicator [1], described as follows:\n",
    "\n",
    "$E_s = \\sum_{i=1}^N \\sum_{j=1, j \\ne 1}^N k_s(\\vec{a_i}, \\vec{a_j})$\n",
    "\n",
    "$k_s(\\vec{a_i}, \\vec{a_j}) = \\frac{1}{||\\vec{a_i} - \\vec{a_j}||^s}$\n",
    "\n",
    "However, to avoid overflow of large values, we apply the transformation:\n",
    "\n",
    "$E_s^{\\ln} = \\ln (1 + E_s) $\n",
    "\n",
    "For this study, we set $s = m - 1$, and since in all our cases, we have 3 objectives, $m=3 \\therefore s = 2$."
   ]
  },
  {
   "cell_type": "code",
   "execution_count": null,
   "metadata": {},
   "outputs": [],
   "source": [
    "def riesz_kernel(x, y, s):\n",
    "    if np.all(x == y):\n",
    "        return 0\n",
    "    return 1/np.power(np.linalg.norm(x - y), s)\n",
    "\n",
    "def Riesz_sEnergyIndicator(PFA):\n",
    "    s_value = 2\n",
    "    # Get the number of dimensions to set s parameter.\n",
    "    m = PFA.shape[1]\n",
    "    # It only calculates n(n-1)/2 elements on the (upper or lower) triangular matrix.\n",
    "    pairwise_kernels = pdist(PFA, lambda u, v: riesz_kernel(u, v, s_value))\n",
    "    # Generate the full squared matrix.\n",
    "    K = squareform(pairwise_kernels)\n",
    "\n",
    "    U = np.sum(K)\n",
    "\n",
    "    return np.log(1 + U)"
   ]
  },
  {
   "cell_type": "markdown",
   "metadata": {},
   "source": [
    "Another indicator to assess the performance is the discrete R2 indicator. \n",
    "\n",
    "$R2(A, W, z$\n",
    "\n",
    "Where "
   ]
  },
  {
   "cell_type": "code",
   "execution_count": null,
   "metadata": {},
   "outputs": [],
   "source": [
    "def normalize(front):\n",
    "    frontMin = np.min(front, axis=0)\n",
    "    frontMax = np.max(front, axis=0)\n",
    "    return (front - frontMin) / (frontMax - frontMin + 1e-6)"
   ]
  },
  {
   "cell_type": "code",
   "execution_count": null,
   "metadata": {},
   "outputs": [],
   "source": [
    "def generateWeights(popSize, indSize):\n",
    "    randomPoints = np.random.uniform(0, 1, size=(popSize, indSize - 1))\n",
    "    sortedPoints = np.sort(np.hstack((np.zeros((popSize, 1)), randomPoints, np.ones((popSize, 1)))), axis=1)\n",
    "    return np.diff(sortedPoints, axis=1)"
   ]
  },
  {
   "cell_type": "code",
   "execution_count": null,
   "metadata": {},
   "outputs": [],
   "source": [
    "def R2Indicator(front, referenceFront):\n",
    "    normalizedFront = normalize(front)\n",
    "    normalizedReference = normalize(referenceFront)\n",
    "    \n",
    "    # Generate arbitrary weights\n",
    "    weights = generateWeights(len(front), normalizedFront.shape[1])\n",
    "\n",
    "    r2_values = []\n",
    "    for i in range(len(normalizedFront)):\n",
    "        min_max_values = []\n",
    "        # Iterate over each objective\n",
    "        for j in range(normalizedFront.shape[1]):  \n",
    "            diff = (normalizedFront[i, j] - normalizedReference[i, j])\n",
    "            min_max_values.append(np.min(np.max(diff / weights[i, j], axis=0)))\n",
    "        r2_values.append(np.mean(min_max_values))\n",
    "    \n",
    "    r2 = np.mean(r2_values)\n",
    "    \n",
    "    return r2"
   ]
  },
  {
   "cell_type": "markdown",
   "metadata": {},
   "source": [
    "Calculate the R2 and Riesz s-Energy for each one of the runs for the problems and then get the mean of those values to get an overall assessment of the algorithms' performance over each problem."
   ]
  },
  {
   "cell_type": "code",
   "execution_count": null,
   "metadata": {},
   "outputs": [],
   "source": [
    "NSGAresults_R2  = { category: { problem : [] for problem in PROBLEMS[category] }  for category in PROBLEMS }\n",
    "NSGAresults_Es  = { category: { problem : [] for problem in PROBLEMS[category] }  for category in PROBLEMS }\n",
    "NSDEresults_R2  = { category: { problem : [] for problem in PROBLEMS[category] }  for category in PROBLEMS }\n",
    "NSDEresults_Es  = { category: { problem : [] for problem in PROBLEMS[category] }  for category in PROBLEMS }\n",
    "\n",
    "for i, category in enumerate(PROBLEMS):\n",
    "    for j, problem in enumerate(PROBLEMS[category]):\n",
    "        trueParetoFront = PROBLEMS[category][problem].pareto_front() if category == \"DTLZ\" else 0.5 - PROBLEMS[\"DTLZ\"][problem[1:]].pareto_front()\n",
    "\n",
    "        for k in range(len(NSGAresults[category][problem])):\n",
    "            NSGAresult = NSGAresults[category][problem][k]\n",
    "            NSDEresult = NSDEresults[category][problem][k]\n",
    "\n",
    "            NSGAresults_R2[category][problem].append(R2Indicator(NSGAresult.F, trueParetoFront))\n",
    "            NSGAresults_Es[category][problem].append(Riesz_sEnergyIndicator(NSGAresult.F))\n",
    "            NSDEresults_R2[category][problem].append(R2Indicator(NSDEresult.F, trueParetoFront))\n",
    "            NSDEresults_Es[category][problem].append(Riesz_sEnergyIndicator(NSDEresult.F))"
   ]
  },
  {
   "cell_type": "code",
   "execution_count": null,
   "metadata": {},
   "outputs": [],
   "source": [
    "NSGAresults_overall  = { category: { problem : {} for problem in PROBLEMS[category] }  for category in PROBLEMS }\n",
    "NSDEresults_overall  = { category: { problem : {} for problem in PROBLEMS[category] }  for category in PROBLEMS }\n",
    "\n",
    "for i, category in enumerate(PROBLEMS):\n",
    "    for j, problem in enumerate(PROBLEMS[category]):\n",
    "        NSGAresults_R2mean = np.mean(np.array(NSGAresults_R2[category][problem]))\n",
    "        NSGAresults_R2std = np.std(np.array(NSGAresults_R2[category][problem]))\n",
    "        NSGAresults_ESmean = np.mean(np.array(NSGAresults_Es[category][problem]))\n",
    "        NSGAresults_ESstd = np.std(np.array(NSGAresults_Es[category][problem]))\n",
    "        NSGAresults_overall[category][problem][\"R2\"] = {\n",
    "            \"Mean\" : NSGAresults_R2mean,\n",
    "            \"Std\"  : NSGAresults_R2std\n",
    "        }\n",
    "        NSGAresults_overall[category][problem][\"Es\"] = {\n",
    "            \"Mean\" : NSGAresults_ESmean,\n",
    "            \"Std\"  : NSGAresults_ESstd\n",
    "        }\n",
    "\n",
    "        NSDEresults_R2mean = np.mean(np.array(NSDEresults_R2[category][problem]))\n",
    "        NSDEresults_R2std = np.std(np.array(NSDEresults_R2[category][problem]))\n",
    "        NSDEresults_ESmean = np.mean(np.array(NSDEresults_Es[category][problem]))\n",
    "        NSDEresults_ESstd = np.std(np.array(NSDEresults_Es[category][problem]))\n",
    "        NSDEresults_overall[category][problem][\"R2\"] = {\n",
    "            \"Mean\" : NSDEresults_R2mean,\n",
    "            \"Std\"  : NSDEresults_R2std\n",
    "        }\n",
    "        NSDEresults_overall[category][problem][\"Es\"] = {\n",
    "            \"Mean\" : NSDEresults_ESmean,\n",
    "            \"Std\"  : NSDEresults_ESstd\n",
    "        }"
   ]
  },
  {
   "cell_type": "code",
   "execution_count": null,
   "metadata": {},
   "outputs": [],
   "source": [
    "NSGAresults_overall"
   ]
  },
  {
   "cell_type": "markdown",
   "metadata": {},
   "source": [
    "<hr />\n",
    "\n",
    "### Comparison between NSGA-II and NSDE-II"
   ]
  },
  {
   "cell_type": "code",
   "execution_count": null,
   "metadata": {},
   "outputs": [],
   "source": [
    "for i, category in enumerate(PROBLEMS):\n",
    "    for j, problem in enumerate(PROBLEMS[category]):\n",
    "        print(f\"\\n{problem}\")\n",
    "        print(\"----------------------------------------------------\")\n",
    "        stat_Es, pValue_Es = ranksums(NSGAresults_R2[category][problem], NSDEresults_R2[category][problem])\n",
    "        stat_R2, pValue_R2 = ranksums(NSGAresults_Es[category][problem], NSDEresults_Es[category][problem])\n",
    "        print(\"Wilcoxon Test results:\")\n",
    "        print(f\"Riesz s-Energy. Stat: {stat_Es}, p value: {pValue_Es}\")\n",
    "        print(f\"R2 Indicator. Stat: {stat_R2}, p value: {pValue_R2}\")"
   ]
  },
  {
   "cell_type": "markdown",
   "metadata": {},
   "source": [
    "<hr />\n",
    "\n",
    "### Pareto Front Visualizations"
   ]
  },
  {
   "cell_type": "code",
   "execution_count": null,
   "metadata": {},
   "outputs": [],
   "source": [
    "\n",
    "scatterPlots = []\n",
    "for i, category in enumerate(PROBLEMS):\n",
    "    for j, problem in enumerate(PROBLEMS[category]):\n",
    "        fig, ax = plt.subplots(2, 4, figsize=(20, 10), subplot_kw={\"projection\" : \"3d\"})\n",
    "\n",
    "        for k, results in enumerate([NSGAresults, NSDEresults]):\n",
    "\n",
    "            # Get the Pareto front of the solution with the median R2\n",
    "            solutions = list(zip(results[category][problem], [NSGAresults_R2, NSDEresults_R2][k][category][problem]))\n",
    "            solutionsSorted = sorted(solutions, key=lambda x: x[1])\n",
    "\n",
    "            print(solutionsSorted)\n",
    "            paretoApprox = solutionsSorted[len(solutionsSorted) // 2][0].F\n",
    "\n",
    "            # Get the real Pareto front\n",
    "            paretoFront = PROBLEMS[category][problem].pareto_front() if category == \"DTLZ\" else 0.5 - PROBLEMS[\"DTLZ\"][problem[1:]].pareto_front()\n",
    "\n",
    "            ax[0, 0].set_title(f\"Approx Pareto Front\\n(Without true reference)\")\n",
    "            ax[k, 0].scatter(paretoApprox[:, 0], paretoApprox[:, 1], paretoApprox[:, 2], color=\"red\")\n",
    "            ax[k, 0].set_xlabel(\"f1\")\n",
    "            ax[k, 0].set_ylabel(\"f2\")\n",
    "            ax[k, 0].set_zlabel(\"f3\")\n",
    "            ax[k, 0].view_init(elev=30, azim=20)\n",
    "\n",
    "            for l, (elevation, angle) in enumerate([(15, -20), (0, -45), (10, -70)]):\n",
    "                ax[0, l+1].set_title(f\"Visualization Angle\\nElevation {elevation} & Azimuth {angle}\")\n",
    "                ax[k, l+1].scatter(paretoFront[:, 0], paretoFront[:, 1], paretoFront[:, 2], color=\"blue\")\n",
    "                ax[k, l+1].scatter(paretoApprox[:, 0], paretoApprox[:, 1], paretoApprox[:, 2], color=\"red\")\n",
    "                ax[k, l+1].set_xlabel(\"f1\")\n",
    "                ax[k, l+1].set_ylabel(\"f2\")\n",
    "                ax[k, l+1].set_zlabel(\"f3\")\n",
    "                ax[k, l+1].view_init(elev=elevation, azim=angle)\n",
    "\n",
    "        fig.text(0.04, 0.83, \"NSGA-II\", va=\"center\", ha=\"right\", fontsize=20)\n",
    "        fig.text(0.04, 0.38, \"NSDE-II\", va=\"center\", ha=\"right\", fontsize=20)\n",
    "        fig.suptitle(problem, fontsize=30)\n",
    "        plt.tight_layout()\n",
    "        plt.show()"
   ]
  },
  {
   "cell_type": "markdown",
   "metadata": {},
   "source": [
    "## Conclusions\n",
    "\n",
    "BLA BLA BLA\n",
    "\n",
    "9 DE CADA 10 GATOS PREFIEREN WHISKAS...\n",
    "\n",
    "© TODOS LOS DERECHOS RESERVADOS"
   ]
  },
  {
   "cell_type": "markdown",
   "metadata": {},
   "source": [
    "## References\n",
    "\n",
    "[1] Jesús Guillermo Falcón-Cardona, Lourdes Uribe, and Pablo Rosas. Riesz\n",
    "s-Energy as a Diversity Indicator in Evolutionary Multi-Objective Optimization. IEEE Transactions on Evolutionary Computation, pages 1–15,\n",
    "2024.\n",
    "\n",
    "[2] Hisao Ishibuchi, Yu Setoguchi, Hiroyuki Masuda, and Yusuke Nojima. Performance of Decomposition-Based Many-Objective Algorithms Strongly Depends on Pareto Front Shapes. IEEE Transactions on Evolutionary Computation, 21(2):169–190, April 2017.\n",
    "\n",
    "[3] C. A. Coello Coello, \"Evolutionary multi-objective optimization: a historical view of the field,\" in IEEE Computational Intelligence Magazine, vol. 1, no. 1, pp. 28-36, Feb. 2006, doi: 10.1109/MCI.2006.1597059.\n",
    "\n",
    "[4] K. Deb, A. Pratap, S. Agarwal and T. Meyarivan, \"A fast and elitist multiobjective genetic algorithm: NSGA-II,\" in IEEE Transactions on Evolutionary Computation, vol. 6, no. 2, pp. 182-197, April 2002, doi: 10.1109/4235.996017.\n",
    "\n",
    "[5] Deb, K., Thiele, L., Laumanns, M., Zitzler, E. (2005). Scalable Test Problems for Evolutionary Multiobjective Optimization. In: Abraham, A., Jain, L., Goldberg, R. (eds) Evolutionary Multiobjective Optimization. Advanced Information and Knowledge Processing. Springer, London. https://doi.org/10.1007/1-84628-137-7_6\n"
   ]
  }
 ],
 "metadata": {
  "kernelspec": {
   "display_name": "EvolAlgorithmsVenv",
   "language": "python",
   "name": "python3"
  },
  "language_info": {
   "codemirror_mode": {
    "name": "ipython",
    "version": 3
   },
   "file_extension": ".py",
   "mimetype": "text/x-python",
   "name": "python",
   "nbconvert_exporter": "python",
   "pygments_lexer": "ipython3",
   "version": "3.12.7"
  }
 },
 "nbformat": 4,
 "nbformat_minor": 2
}
